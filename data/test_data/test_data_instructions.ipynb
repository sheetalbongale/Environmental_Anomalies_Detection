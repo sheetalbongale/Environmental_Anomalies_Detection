{
 "cells": [
  {
   "cell_type": "markdown",
   "metadata": {},
   "source": [
    "# Test Data Details\n",
    "The test data contains North Conservatory sensor readings from 2019 pre-processed in the same way as in the training data case.\n",
    "\n",
    "More specifically the test-data has the following properties:\n",
    "\n",
    "1. Spans the first 6 months of 2019 (January 1, 2019 - June 30, 2019).\n",
    "\n",
    "2. Only weekdays have been retained.\n",
    "\n",
    "3. Re-scaled using the scaling values from the 2018 training data \n",
    "  * (standardScaler_2018.numpy -> continuous valued sensor data )\n",
    "  * (minMaxScaler_2018.numpy -> categorical valued data )\n",
    "  * feel free to load these with joblib.load\n",
    "  \n",
    "\n",
    "4. Each row of the dataset represents 24 hours of data extracted using overlapped sliding windows.\n",
    "\n",
    "5. The rows/days have been shuffled, and are non-sequential.\n",
    "\n",
    "6. 200 anomalies have been injected into different days.\n",
    "\n",
    "7. Injected anomalies have only been added into the portions of the data that comes from continuously valued internal sensors (i.e., co2, temperature, dewpoint, and/or relative humidity). This means that the anomalies you are looking for will only take place between the 0 and 1536 reading on any given day.\n",
    "\n"
   ]
  },
  {
   "cell_type": "markdown",
   "metadata": {},
   "source": [
    "# Load Test Data"
   ]
  },
  {
   "cell_type": "code",
   "execution_count": 3,
   "metadata": {},
   "outputs": [],
   "source": [
    "import joblib"
   ]
  },
  {
   "cell_type": "code",
   "execution_count": 6,
   "metadata": {},
   "outputs": [],
   "source": [
    "import matplotlib.pylab as plt"
   ]
  },
  {
   "cell_type": "code",
   "execution_count": 4,
   "metadata": {},
   "outputs": [],
   "source": [
    "test_data = joblib.load('test_dataset_2019.numpy')"
   ]
  },
  {
   "cell_type": "code",
   "execution_count": 5,
   "metadata": {},
   "outputs": [
    {
     "data": {
      "text/plain": [
       "(9898, 2112)"
      ]
     },
     "execution_count": 5,
     "metadata": {},
     "output_type": "execute_result"
    }
   ],
   "source": [
    "test_data.shape"
   ]
  },
  {
   "cell_type": "code",
   "execution_count": 7,
   "metadata": {},
   "outputs": [
    {
     "data": {
      "text/plain": [
       "[<matplotlib.lines.Line2D at 0x7fcb8d00fa90>]"
      ]
     },
     "execution_count": 7,
     "metadata": {},
     "output_type": "execute_result"
    },
    {
     "data": {
      "image/png": "[encoded data removed]",
      "text/plain": [
       "<Figure size 432x288 with 1 Axes>"
      ]
     },
     "metadata": {
      "needs_background": "light"
     },
     "output_type": "display_data"
    }
   ],
   "source": [
    "plt.plot( test_data[0,:] )"
   ]
  },
  {
   "cell_type": "markdown",
   "metadata": {},
   "source": [
    "# Your Goal"
   ]
  },
  {
   "cell_type": "markdown",
   "metadata": {},
   "source": [
    "Your objective is to submit a text file that locates the 200 injected anomalies in this dataset. If your submission file contains more than 200 lines, we'll ignore beyond the first 200.\n",
    "\n",
    "Each line of the text file should contain a unique day (i.e., test_data row index) in which an anomaly was detected.\n",
    "\n",
    "You can also optionally add an additional indicator for the start sample within the day where the anomaly begins. Note that it is also possible to submit anomaly start samples for only a subset of days. Below we provide some examples as well as parser code so that you can be sure that your submission will be undersood by our grading process.\n"
   ]
  },
  {
   "cell_type": "markdown",
   "metadata": {},
   "source": [
    "# Grading"
   ]
  },
  {
   "cell_type": "markdown",
   "metadata": {},
   "source": [
    "Each correct detection of an anomalous day will earn 1 point, and correct anomaly start sample detections (within a 50 index margin) will earn half a point. There are no point deductions for incorrect answers, and partially credit is possible for correct day detections with incorrect start samples.\n",
    "\n",
    "The max total score is `200*1 + 200*.5 = 300` points.\n",
    "\n",
    "Since this is a very challenging problem, we'll do our best to grade on a curve relative to the most successful submission."
   ]
  },
  {
   "cell_type": "markdown",
   "metadata": {},
   "source": [
    "# Submission Samples\n",
    "\n",
    "\n",
    "An example submission with both *day and start sample indicators* might look like the following:\n",
    "\n",
    "-----\n",
    "**-- team_01_submission.txt --**\n",
    "\n",
    "\n",
    "`10, 1023   \n",
    "56, 425\n",
    "..\n",
    "`\n",
    "\n",
    "The first line of this submissino states that an anomaly was detected on the 10th day/row in the test_data, starting at the 1023 sample.\n",
    "\n",
    "-----\n",
    "\n",
    "Similarly, an example submission with *only day indicators* might look like:\n",
    "\n",
    "**-- team_01_submission.txt --**\n",
    "\n",
    "`\n",
    "10, \n",
    "56, \n",
    "..\n",
    "`\n",
    "\n",
    "-----\n",
    "\n",
    "Lastly, an example submission with *day indicators and some start sample indicators* might look like:\n",
    "\n",
    "**-- team_01_submission.txt --**\n",
    "\n",
    "`\n",
    "10, \n",
    "56, 425\n",
    "..\n",
    "`\n",
    "\n",
    "\n",
    "\n"
   ]
  },
  {
   "cell_type": "markdown",
   "metadata": {},
   "source": [
    "# Submission Parser"
   ]
  },
  {
   "cell_type": "code",
   "execution_count": 11,
   "metadata": {},
   "outputs": [
    {
     "name": "stdout",
     "output_type": "stream",
     "text": [
      "Writing sample_submission.txt\n"
     ]
    }
   ],
   "source": [
    "%%writefile sample_submission.txt\n",
    "10,\n",
    "54, 425\n",
    "100, 100"
   ]
  },
  {
   "cell_type": "code",
   "execution_count": 23,
   "metadata": {},
   "outputs": [],
   "source": [
    "def parse_submission ( filename ):\n",
    "    dayIndicators = [] \n",
    "    startSampleIndicators = []\n",
    "    lineCount = 0 \n",
    "    with open(filename) as submission_text:\n",
    "        line = submission_text.readline()        \n",
    "        while line:\n",
    "            if lineCount > 200: break\n",
    "                    \n",
    "            dayIndicators += [line.split(',')[0].strip()]\n",
    "            startSampleIndicators += [line.split(',')[1].strip()]\n",
    "            \n",
    "            print( f'parsing line#{lineCount}: {line}' )\n",
    "            line = submission_text.readline()\n",
    "            lineCount += 1\n",
    "            \n",
    "    return dayIndicators, startSampleIndicators"
   ]
  },
  {
   "cell_type": "code",
   "execution_count": 24,
   "metadata": {},
   "outputs": [
    {
     "name": "stdout",
     "output_type": "stream",
     "text": [
      "parsing line#0: 10,\n",
      "\n",
      "parsing line#1: 54,425\n",
      "\n",
      "parsing line#2: 100, 100\n",
      "\n"
     ]
    },
    {
     "data": {
      "text/plain": [
       "(['10', '54', '100'], ['', '425', '100'])"
      ]
     },
     "execution_count": 24,
     "metadata": {},
     "output_type": "execute_result"
    }
   ],
   "source": [
    "parse_submission ( 'sample_submission.txt')"
   ]
  }
 ],
 "metadata": {
  "kernelspec": {
   "display_name": "Python 3",
   "language": "python",
   "name": "python3"
  },
  "language_info": {
   "codemirror_mode": {
    "name": "ipython",
    "version": 3
   },
   "file_extension": ".py",
   "mimetype": "text/x-python",
   "name": "python",
   "nbconvert_exporter": "python",
   "pygments_lexer": "ipython3",
   "version": "3.7.8"
  }
 },
 "nbformat": 4,
 "nbformat_minor": 4
}
